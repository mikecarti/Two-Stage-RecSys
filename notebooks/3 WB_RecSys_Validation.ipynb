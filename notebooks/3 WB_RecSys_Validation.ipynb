{
  "cells": [
    {
      "cell_type": "markdown",
      "metadata": {
        "id": "IM4X8duO-njd"
      },
      "source": [
        "## ALS"
      ]
    },
    {
      "cell_type": "markdown",
      "metadata": {
        "id": "Ir9TIkrw-aIJ"
      },
      "source": [
        " С предыдущей защиты, мне посоветовали также разобрать метод ALS. Начнем с него, продолжим с техникой валидации."
      ]
    },
    {
      "cell_type": "markdown",
      "metadata": {
        "id": "GGLiUg7l-sIH"
      },
      "source": [
        "Если SVD - чисто алгоритмический подход, основывающийся на айген-декомпозиции квадратных матриц, то ALS является обучаемым методом, который соответственно имеет функцию потерь:\n",
        "$$\n",
        "\\min_{X,Y}\\sum_{r_{ui}\\text{ observed}} (r_{ui} - x_u^Ty_i)^2 + \\lambda(\\sum_u \\mid\\mid x_u \\mid\\mid ^2 + \\sum_i \\mid\\mid y_i \\mid\\mid^2)\n",
        "$$\n",
        "\n",
        "Здесь алгоритм собирает такие матрицы латентных представлений X и Y, которые бы минимизировали разницу между настоящими оценками пользователей и предсказываемыми скалярным произведением векторов пользователя и айтема. Также здесь присутствует регуляризация, которая штрафует очень большие нормы весов предметов и пользователей, похожая на стандартную L2 регуляризацию. Мы альтернируемся между фиксированием $x_u$ и $y_i$, чтобы превратить не-выпуклую np-hard задачу в выпуклую задачу оптимизации.\n",
        "\n",
        "### Плюсы\n",
        "- Можно задавать кол-во латентных признаков\n",
        "- Можно распаралеллить (быстрые вычисления на больших данных, возможен онлайн)\n",
        "\n",
        "### Минусы\n",
        "- Лучше работает на implicit фидбеке (неявном), в нашем случае фидбек явный.\n",
        "- Холодный старт\n",
        "- Не берет во внимание последовательности"
      ]
    },
    {
      "cell_type": "markdown",
      "metadata": {
        "id": "aBG6zSgJIlK_"
      },
      "source": [
        "# Гипотезы для Финальной модели"
      ]
    },
    {
      "cell_type": "markdown",
      "metadata": {
        "id": "Td3DdsOWIp0f"
      },
      "source": [
        "Предполагаю, что стэккинг моделей может стать плодотворным подходом. Предлагаю такой подход:\n",
        "\n",
        "\n",
        "1.   Matrix Factorization (ALS / SVD) -> Низкоранговое приближение\n",
        "2.   Sequential Reccomender (Bert4Rec / LSTM4Rec / Gru4Rec) -> top k item-ов (взять из вероятностного распределения)\n",
        "3.   Item-2-Item / User-2-User\n",
        "4. Reranking (CatBoost / NN) -> rerank all candidates\n"
      ]
    },
    {
      "cell_type": "markdown",
      "metadata": {
        "id": "0VvJ1LDXIJjl"
      },
      "source": [
        "# Валидация"
      ]
    },
    {
      "cell_type": "code",
      "execution_count": 1,
      "metadata": {
        "id": "MbI2Z3Q4P6lj"
      },
      "outputs": [],
      "source": [
        "import pandas as pd\n",
        "import numpy as np"
      ]
    },
    {
      "cell_type": "code",
      "execution_count": 2,
      "metadata": {
        "id": "_umRBAAzSa9j",
        "colab": {
          "base_uri": "https://localhost:8080/"
        },
        "outputId": "f5e4b948-12f7-4162-f9bf-be56106a737a"
      },
      "outputs": [
        {
          "output_type": "stream",
          "name": "stdout",
          "text": [
            "\u001b[?25l     \u001b[90m━━━━━━━━━━━━━━━━━━━━━━━━━━━━━━━━━━━━━━━━\u001b[0m \u001b[32m0.0/62.5 kB\u001b[0m \u001b[31m?\u001b[0m eta \u001b[36m-:--:--\u001b[0m\r\u001b[2K     \u001b[91m━━━━━━━━━━━━━━━━━━━\u001b[0m\u001b[91m╸\u001b[0m\u001b[90m━━━━━━━━━━━━━━━━━━━━\u001b[0m \u001b[32m30.7/62.5 kB\u001b[0m \u001b[31m717.1 kB/s\u001b[0m eta \u001b[36m0:00:01\u001b[0m\r\u001b[2K     \u001b[91m━━━━━━━━━━━━━━━━━━━━━━━━━━━━━━━━━━━━━━━\u001b[0m\u001b[90m╺\u001b[0m \u001b[32m61.4/62.5 kB\u001b[0m \u001b[31m913.4 kB/s\u001b[0m eta \u001b[36m0:00:01\u001b[0m\r\u001b[2K     \u001b[90m━━━━━━━━━━━━━━━━━━━━━━━━━━━━━━━━━━━━━━━━\u001b[0m \u001b[32m62.5/62.5 kB\u001b[0m \u001b[31m734.4 kB/s\u001b[0m eta \u001b[36m0:00:00\u001b[0m\n",
            "\u001b[?25h"
          ]
        }
      ],
      "source": [
        "!pip install loguru polars -q"
      ]
    },
    {
      "cell_type": "code",
      "execution_count": 3,
      "metadata": {
        "colab": {
          "base_uri": "https://localhost:8080/"
        },
        "id": "nPWC_kUaPxK5",
        "outputId": "e2529ac5-b70b-4279-a788-d820f48de77e"
      },
      "outputs": [
        {
          "output_type": "stream",
          "name": "stdout",
          "text": [
            "Random seed set as 42\n",
            "Mounted at /content/drive\n"
          ]
        }
      ],
      "source": [
        "def set_seed(seed: int = 42) -> None:\n",
        "    import random\n",
        "    import os\n",
        "\n",
        "    np.random.seed(seed)\n",
        "    random.seed(seed)\n",
        "    # Set a fixed value for the hash seed\n",
        "    os.environ[\"PYTHONHASHSEED\"] = str(seed)\n",
        "    print(f\"Random seed set as {seed}\")\n",
        "\n",
        "    return seed\n",
        "\n",
        "set_seed()\n",
        "\n",
        "# Load the Drive helper and mount\n",
        "from google.colab import drive\n",
        "drive_path = '/content/drive'\n",
        "drive.mount(drive_path)"
      ]
    },
    {
      "cell_type": "markdown",
      "metadata": {
        "id": "aZoZcjiP-mJe"
      },
      "source": [
        "## Обучающая / Тренировочная выборка"
      ]
    },
    {
      "cell_type": "code",
      "execution_count": 4,
      "metadata": {
        "colab": {
          "base_uri": "https://localhost:8080/",
          "height": 206
        },
        "id": "7OH_oDFoIUc-",
        "outputId": "08e6b088-579a-48fe-cc41-937227433d84"
      },
      "outputs": [
        {
          "output_type": "display_data",
          "data": {
            "text/plain": [
              "   user_id  item_id                    order_ts\n",
              "0   550614      264  2023-01-01 00:28:09.000000\n",
              "1   571051      580  2023-01-01 00:41:47.000000\n",
              "2   571051      180  2023-01-01 00:41:47.000000\n",
              "3    47164     5135  2023-01-01 00:53:35.000000\n",
              "4   219072     2668  2023-01-01 01:02:29.000000"
            ],
            "text/html": [
              "\n",
              "  <div id=\"df-50c0d7e5-31ba-4eb4-bc93-5853efc51d32\" class=\"colab-df-container\">\n",
              "    <div>\n",
              "<style scoped>\n",
              "    .dataframe tbody tr th:only-of-type {\n",
              "        vertical-align: middle;\n",
              "    }\n",
              "\n",
              "    .dataframe tbody tr th {\n",
              "        vertical-align: top;\n",
              "    }\n",
              "\n",
              "    .dataframe thead th {\n",
              "        text-align: right;\n",
              "    }\n",
              "</style>\n",
              "<table border=\"1\" class=\"dataframe\">\n",
              "  <thead>\n",
              "    <tr style=\"text-align: right;\">\n",
              "      <th></th>\n",
              "      <th>user_id</th>\n",
              "      <th>item_id</th>\n",
              "      <th>order_ts</th>\n",
              "    </tr>\n",
              "  </thead>\n",
              "  <tbody>\n",
              "    <tr>\n",
              "      <th>0</th>\n",
              "      <td>550614</td>\n",
              "      <td>264</td>\n",
              "      <td>2023-01-01 00:28:09.000000</td>\n",
              "    </tr>\n",
              "    <tr>\n",
              "      <th>1</th>\n",
              "      <td>571051</td>\n",
              "      <td>580</td>\n",
              "      <td>2023-01-01 00:41:47.000000</td>\n",
              "    </tr>\n",
              "    <tr>\n",
              "      <th>2</th>\n",
              "      <td>571051</td>\n",
              "      <td>180</td>\n",
              "      <td>2023-01-01 00:41:47.000000</td>\n",
              "    </tr>\n",
              "    <tr>\n",
              "      <th>3</th>\n",
              "      <td>47164</td>\n",
              "      <td>5135</td>\n",
              "      <td>2023-01-01 00:53:35.000000</td>\n",
              "    </tr>\n",
              "    <tr>\n",
              "      <th>4</th>\n",
              "      <td>219072</td>\n",
              "      <td>2668</td>\n",
              "      <td>2023-01-01 01:02:29.000000</td>\n",
              "    </tr>\n",
              "  </tbody>\n",
              "</table>\n",
              "</div>\n",
              "    <div class=\"colab-df-buttons\">\n",
              "\n",
              "  <div class=\"colab-df-container\">\n",
              "    <button class=\"colab-df-convert\" onclick=\"convertToInteractive('df-50c0d7e5-31ba-4eb4-bc93-5853efc51d32')\"\n",
              "            title=\"Convert this dataframe to an interactive table.\"\n",
              "            style=\"display:none;\">\n",
              "\n",
              "  <svg xmlns=\"http://www.w3.org/2000/svg\" height=\"24px\" viewBox=\"0 -960 960 960\">\n",
              "    <path d=\"M120-120v-720h720v720H120Zm60-500h600v-160H180v160Zm220 220h160v-160H400v160Zm0 220h160v-160H400v160ZM180-400h160v-160H180v160Zm440 0h160v-160H620v160ZM180-180h160v-160H180v160Zm440 0h160v-160H620v160Z\"/>\n",
              "  </svg>\n",
              "    </button>\n",
              "\n",
              "  <style>\n",
              "    .colab-df-container {\n",
              "      display:flex;\n",
              "      gap: 12px;\n",
              "    }\n",
              "\n",
              "    .colab-df-convert {\n",
              "      background-color: #E8F0FE;\n",
              "      border: none;\n",
              "      border-radius: 50%;\n",
              "      cursor: pointer;\n",
              "      display: none;\n",
              "      fill: #1967D2;\n",
              "      height: 32px;\n",
              "      padding: 0 0 0 0;\n",
              "      width: 32px;\n",
              "    }\n",
              "\n",
              "    .colab-df-convert:hover {\n",
              "      background-color: #E2EBFA;\n",
              "      box-shadow: 0px 1px 2px rgba(60, 64, 67, 0.3), 0px 1px 3px 1px rgba(60, 64, 67, 0.15);\n",
              "      fill: #174EA6;\n",
              "    }\n",
              "\n",
              "    .colab-df-buttons div {\n",
              "      margin-bottom: 4px;\n",
              "    }\n",
              "\n",
              "    [theme=dark] .colab-df-convert {\n",
              "      background-color: #3B4455;\n",
              "      fill: #D2E3FC;\n",
              "    }\n",
              "\n",
              "    [theme=dark] .colab-df-convert:hover {\n",
              "      background-color: #434B5C;\n",
              "      box-shadow: 0px 1px 3px 1px rgba(0, 0, 0, 0.15);\n",
              "      filter: drop-shadow(0px 1px 2px rgba(0, 0, 0, 0.3));\n",
              "      fill: #FFFFFF;\n",
              "    }\n",
              "  </style>\n",
              "\n",
              "    <script>\n",
              "      const buttonEl =\n",
              "        document.querySelector('#df-50c0d7e5-31ba-4eb4-bc93-5853efc51d32 button.colab-df-convert');\n",
              "      buttonEl.style.display =\n",
              "        google.colab.kernel.accessAllowed ? 'block' : 'none';\n",
              "\n",
              "      async function convertToInteractive(key) {\n",
              "        const element = document.querySelector('#df-50c0d7e5-31ba-4eb4-bc93-5853efc51d32');\n",
              "        const dataTable =\n",
              "          await google.colab.kernel.invokeFunction('convertToInteractive',\n",
              "                                                    [key], {});\n",
              "        if (!dataTable) return;\n",
              "\n",
              "        const docLinkHtml = 'Like what you see? Visit the ' +\n",
              "          '<a target=\"_blank\" href=https://colab.research.google.com/notebooks/data_table.ipynb>data table notebook</a>'\n",
              "          + ' to learn more about interactive tables.';\n",
              "        element.innerHTML = '';\n",
              "        dataTable['output_type'] = 'display_data';\n",
              "        await google.colab.output.renderOutput(dataTable, element);\n",
              "        const docLink = document.createElement('div');\n",
              "        docLink.innerHTML = docLinkHtml;\n",
              "        element.appendChild(docLink);\n",
              "      }\n",
              "    </script>\n",
              "  </div>\n",
              "\n",
              "\n",
              "<div id=\"df-5e04c5d7-c598-41f4-bd65-6cb556628663\">\n",
              "  <button class=\"colab-df-quickchart\" onclick=\"quickchart('df-5e04c5d7-c598-41f4-bd65-6cb556628663')\"\n",
              "            title=\"Suggest charts\"\n",
              "            style=\"display:none;\">\n",
              "\n",
              "<svg xmlns=\"http://www.w3.org/2000/svg\" height=\"24px\"viewBox=\"0 0 24 24\"\n",
              "     width=\"24px\">\n",
              "    <g>\n",
              "        <path d=\"M19 3H5c-1.1 0-2 .9-2 2v14c0 1.1.9 2 2 2h14c1.1 0 2-.9 2-2V5c0-1.1-.9-2-2-2zM9 17H7v-7h2v7zm4 0h-2V7h2v10zm4 0h-2v-4h2v4z\"/>\n",
              "    </g>\n",
              "</svg>\n",
              "  </button>\n",
              "\n",
              "<style>\n",
              "  .colab-df-quickchart {\n",
              "      --bg-color: #E8F0FE;\n",
              "      --fill-color: #1967D2;\n",
              "      --hover-bg-color: #E2EBFA;\n",
              "      --hover-fill-color: #174EA6;\n",
              "      --disabled-fill-color: #AAA;\n",
              "      --disabled-bg-color: #DDD;\n",
              "  }\n",
              "\n",
              "  [theme=dark] .colab-df-quickchart {\n",
              "      --bg-color: #3B4455;\n",
              "      --fill-color: #D2E3FC;\n",
              "      --hover-bg-color: #434B5C;\n",
              "      --hover-fill-color: #FFFFFF;\n",
              "      --disabled-bg-color: #3B4455;\n",
              "      --disabled-fill-color: #666;\n",
              "  }\n",
              "\n",
              "  .colab-df-quickchart {\n",
              "    background-color: var(--bg-color);\n",
              "    border: none;\n",
              "    border-radius: 50%;\n",
              "    cursor: pointer;\n",
              "    display: none;\n",
              "    fill: var(--fill-color);\n",
              "    height: 32px;\n",
              "    padding: 0;\n",
              "    width: 32px;\n",
              "  }\n",
              "\n",
              "  .colab-df-quickchart:hover {\n",
              "    background-color: var(--hover-bg-color);\n",
              "    box-shadow: 0 1px 2px rgba(60, 64, 67, 0.3), 0 1px 3px 1px rgba(60, 64, 67, 0.15);\n",
              "    fill: var(--button-hover-fill-color);\n",
              "  }\n",
              "\n",
              "  .colab-df-quickchart-complete:disabled,\n",
              "  .colab-df-quickchart-complete:disabled:hover {\n",
              "    background-color: var(--disabled-bg-color);\n",
              "    fill: var(--disabled-fill-color);\n",
              "    box-shadow: none;\n",
              "  }\n",
              "\n",
              "  .colab-df-spinner {\n",
              "    border: 2px solid var(--fill-color);\n",
              "    border-color: transparent;\n",
              "    border-bottom-color: var(--fill-color);\n",
              "    animation:\n",
              "      spin 1s steps(1) infinite;\n",
              "  }\n",
              "\n",
              "  @keyframes spin {\n",
              "    0% {\n",
              "      border-color: transparent;\n",
              "      border-bottom-color: var(--fill-color);\n",
              "      border-left-color: var(--fill-color);\n",
              "    }\n",
              "    20% {\n",
              "      border-color: transparent;\n",
              "      border-left-color: var(--fill-color);\n",
              "      border-top-color: var(--fill-color);\n",
              "    }\n",
              "    30% {\n",
              "      border-color: transparent;\n",
              "      border-left-color: var(--fill-color);\n",
              "      border-top-color: var(--fill-color);\n",
              "      border-right-color: var(--fill-color);\n",
              "    }\n",
              "    40% {\n",
              "      border-color: transparent;\n",
              "      border-right-color: var(--fill-color);\n",
              "      border-top-color: var(--fill-color);\n",
              "    }\n",
              "    60% {\n",
              "      border-color: transparent;\n",
              "      border-right-color: var(--fill-color);\n",
              "    }\n",
              "    80% {\n",
              "      border-color: transparent;\n",
              "      border-right-color: var(--fill-color);\n",
              "      border-bottom-color: var(--fill-color);\n",
              "    }\n",
              "    90% {\n",
              "      border-color: transparent;\n",
              "      border-bottom-color: var(--fill-color);\n",
              "    }\n",
              "  }\n",
              "</style>\n",
              "\n",
              "  <script>\n",
              "    async function quickchart(key) {\n",
              "      const quickchartButtonEl =\n",
              "        document.querySelector('#' + key + ' button');\n",
              "      quickchartButtonEl.disabled = true;  // To prevent multiple clicks.\n",
              "      quickchartButtonEl.classList.add('colab-df-spinner');\n",
              "      try {\n",
              "        const charts = await google.colab.kernel.invokeFunction(\n",
              "            'suggestCharts', [key], {});\n",
              "      } catch (error) {\n",
              "        console.error('Error during call to suggestCharts:', error);\n",
              "      }\n",
              "      quickchartButtonEl.classList.remove('colab-df-spinner');\n",
              "      quickchartButtonEl.classList.add('colab-df-quickchart-complete');\n",
              "    }\n",
              "    (() => {\n",
              "      let quickchartButtonEl =\n",
              "        document.querySelector('#df-5e04c5d7-c598-41f4-bd65-6cb556628663 button');\n",
              "      quickchartButtonEl.style.display =\n",
              "        google.colab.kernel.accessAllowed ? 'block' : 'none';\n",
              "    })();\n",
              "  </script>\n",
              "</div>\n",
              "    </div>\n",
              "  </div>\n"
            ],
            "application/vnd.google.colaboratory.intrinsic+json": {
              "type": "dataframe",
              "summary": "{\n  \"name\": \"display(df\",\n  \"rows\": 5,\n  \"fields\": [\n    {\n      \"column\": \"user_id\",\n      \"properties\": {\n        \"dtype\": \"number\",\n        \"std\": 243973,\n        \"min\": 47164,\n        \"max\": 571051,\n        \"num_unique_values\": 4,\n        \"samples\": [\n          571051,\n          219072,\n          550614\n        ],\n        \"semantic_type\": \"\",\n        \"description\": \"\"\n      }\n    },\n    {\n      \"column\": \"item_id\",\n      \"properties\": {\n        \"dtype\": \"number\",\n        \"std\": 2141,\n        \"min\": 180,\n        \"max\": 5135,\n        \"num_unique_values\": 5,\n        \"samples\": [\n          580,\n          2668,\n          180\n        ],\n        \"semantic_type\": \"\",\n        \"description\": \"\"\n      }\n    },\n    {\n      \"column\": \"order_ts\",\n      \"properties\": {\n        \"dtype\": \"object\",\n        \"num_unique_values\": 4,\n        \"samples\": [\n          \"2023-01-01 00:41:47.000000\",\n          \"2023-01-01 01:02:29.000000\",\n          \"2023-01-01 00:28:09.000000\"\n        ],\n        \"semantic_type\": \"\",\n        \"description\": \"\"\n      }\n    }\n  ]\n}"
            }
          },
          "metadata": {}
        }
      ],
      "source": [
        "df = pd.read_csv(drive_path + \"/MyDrive/preprocessed_users_data.csv\", index_col=0)\n",
        "display(df.head())"
      ]
    },
    {
      "cell_type": "code",
      "execution_count": 5,
      "metadata": {
        "id": "sAtzyVXVReUl"
      },
      "outputs": [],
      "source": [
        "df[\"order_ts\"] = pd.to_datetime(df[\"order_ts\"])"
      ]
    },
    {
      "cell_type": "markdown",
      "source": [
        "Что делать с пользователями, которые совершили всего одну покупку? Оставлять эту покупку в трейне? Если идет разделение на train и test, нет пользы для тренировки модели, если потом нельзя провести предсказание."
      ],
      "metadata": {
        "id": "z92YUHWhC1so"
      }
    },
    {
      "cell_type": "code",
      "execution_count": null,
      "metadata": {
        "id": "YO0cMhL6QoH2"
      },
      "outputs": [],
      "source": [
        "from typing import Tuple\n",
        "from loguru import logger\n",
        "\n",
        "def last_p_out(df: pd.DataFrame, p=1) -> Tuple[pd.DataFrame, pd.DataFrame]:\n",
        "    assert len(df) != 0\n",
        "    grouped = df.sort_values(by=\"order_ts\").groupby(\"user_id\")\n",
        "\n",
        "    train_samples = []\n",
        "    test_samples = []\n",
        "    too_few_purchase_users_num = 0\n",
        "\n",
        "    for user_id, user_interactions in grouped:\n",
        "        # if user has only p purchases, delete it from dataset\n",
        "        if user_interactions.shape[0] == p:\n",
        "            too_few_purchase_users_num += 1\n",
        "            continue\n",
        "        assert user_interactions.shape[0] != 0, user_interactions\n",
        "\n",
        "        train_sample = user_interactions.iloc[:-p]\n",
        "        test_sample = user_interactions.iloc[-p:]\n",
        "\n",
        "        train_samples.append(train_sample)\n",
        "        test_samples.append(test_sample)\n",
        "    train_data = pd.concat(train_samples)\n",
        "    test_data = pd.concat(test_samples)\n",
        "\n",
        "    logger.info(f\"Number of unique users: {len(grouped)}\")\n",
        "    logger.info(f\"{too_few_purchase_users_num} users had not enough of purchases to be in a dataset\")\n",
        "\n",
        "    return train_data, test_data\n",
        "\n",
        "\n",
        "train, test = last_p_out(df, p=1)"
      ]
    },
    {
      "cell_type": "code",
      "source": [
        "print(train.shape, '\\n' , test.shape)\n",
        "print(\"Ratio:\", round(test.shape[0] / train.shape[0], 4), \"is the portion of test data\")"
      ],
      "metadata": {
        "id": "BRvnJpdM7ml2"
      },
      "execution_count": null,
      "outputs": []
    },
    {
      "cell_type": "code",
      "source": [
        "train.to_csv(\"wb_train.csv\")\n",
        "train.head()"
      ],
      "metadata": {
        "id": "RGbdw6fV-Bsh"
      },
      "execution_count": null,
      "outputs": []
    },
    {
      "cell_type": "code",
      "source": [
        "test.to_csv(\"wb_test.csv\")\n",
        "test.head()"
      ],
      "metadata": {
        "id": "M4iSfqT5MCih"
      },
      "execution_count": null,
      "outputs": []
    },
    {
      "cell_type": "markdown",
      "metadata": {
        "id": "wC61MuA_NcDu"
      },
      "source": [
        "# Схема Валидации"
      ]
    },
    {
      "cell_type": "markdown",
      "source": [
        "Оптимальная схема валидации представляет из себя:\n",
        "- Разделение на последовательности для каждого пользователя\n",
        "- Разделение на train и val с помощью LeaveLastPOut (P=1)\n",
        "- производим Кросс-Валидацию используя train:\n",
        "    1.   Делаем K разделений на K фолдов, тестовый фолд - подмножество пользователей, у которых последнее взаимодействия из train скрыто. Пользователей, у которых изначально было всего 2 взаимодействия не берем.\n",
        "    2.   Обучаем на такой кросс-валидации нашу модель, подбираем лучшие гипер параметры, основываемся на выбранной метрике (для гипер-параметров добавим GridSearch либо Optuna).\n",
        "- Когда лучшие гипер-параметры выбраны, обучаем модель полностью на train\n",
        "- Замеряем качество на test."
      ],
      "metadata": {
        "id": "_SR4pIb_Yeor"
      }
    },
    {
      "cell_type": "code",
      "source": [
        "def to_sequences(df: pd.DataFrame) -> pd.DataFrame:\n",
        "    df = df.copy()\n",
        "    assert pd.api.types.is_datetime64_any_dtype(df['order_ts']), \"Column is not of type datetime\"\n",
        "\n",
        "    df = df.sort_values(by=\"order_ts\").drop(columns=\"order_ts\")\n",
        "    user_sequences  = df.groupby(by=\"user_id\")[\"item_id\"].apply(list)\n",
        "    return user_sequences"
      ],
      "metadata": {
        "id": "z4TFvnFaZGh0"
      },
      "execution_count": null,
      "outputs": []
    },
    {
      "cell_type": "code",
      "source": [
        "from itertools import pairwise\n",
        "from typing import Callable\n",
        "from sklearn.model_selection import train_test_split\n",
        "\n",
        "def cross_validate(user_sequences: pd.DataFrame, model_constructor: Callable, score: Callable, k=5, p=1):\n",
        "    test_ratio = 1 / k\n",
        "\n",
        "    scores = []\n",
        "    for i in range(k):\n",
        "        train_seq, test_seq = train_test_split(user_sequences, test_size=test_ratio, random_state=42)\n",
        "        y_test = test_seq.apply(lambda lst: lst[-p])\n",
        "        X_test = test_seq.apply(lambda lst: lst[:-p])\n",
        "\n",
        "        model = model_constructor()\n",
        "        model.fit(train_seq)\n",
        "        # Тут мы ожидаем получить по sequence на каждого пользователя\n",
        "        y_pred = model.predict(X_test)\n",
        "        scores.append(score(y_test, y_pred))\n",
        "    return scores / k"
      ],
      "metadata": {
        "id": "u2ebTe4zg2uq",
        "outputId": "e521a4d8-3b5d-4779-b394-1aecee1dcce0",
        "colab": {
          "base_uri": "https://localhost:8080/"
        }
      },
      "execution_count": 8,
      "outputs": [
        {
          "output_type": "execute_result",
          "data": {
            "text/plain": [
              "[1    1\n",
              " 2    2\n",
              " dtype: int64,\n",
              " 0    0\n",
              " dtype: int64]"
            ]
          },
          "metadata": {},
          "execution_count": 8
        }
      ]
    },
    {
      "cell_type": "markdown",
      "source": [
        "Стоит иметь ввиду, что для candidate-search моделей нам нужны будут одни метрики (скорее всего классификационные, или регрессионные), а для ранжирующих моделей нужны будут ранжирующие метрики. Соответственно здесь может быть такой подход:\n",
        "1. Обучить все candidate-search модели в изолированной среде и выбрать лучшие гипер-параметры для каждой (засчет CV)\n",
        "2. Обучить на стэкинге этих моделей алгоритм из семейства Learning to Rank (например LambdaRank или CatBoost) и выбрать для него лучшие гипер-параметры (засчет CV)\n",
        "3. Объединить стэкинг candidate-search моделей и ранжирующую модель."
      ],
      "metadata": {
        "id": "_R-QvWWUYcPb"
      }
    },
    {
      "cell_type": "markdown",
      "metadata": {
        "id": "I-Gfz69uNd6r"
      },
      "source": [
        "# Обоснование Схемы Валидации"
      ]
    },
    {
      "cell_type": "markdown",
      "source": [
        "Здесь я опишу различные подходы и аспекты в условиях нашей проблематики.\n",
        "\n",
        "Временное разделение: Поскольку у нас есть последовательные данные, подходящей стратегией будет временное разделение. Можно разделить данные на обучающий и тестовый наборы на основе времени, обеспечивая, чтобы тестовый набор следовал за обучающим. Это имитирует реальные сценарии, когда модель обучается на прошлых данных и тестируется на будущих взаимодействиях.\n",
        "\n",
        "Sequential Models: При оценке последовательных моделей рекомендаций (например, LSTM4Rec, GRU4Rec) важно сохранить временной порядок взаимодействий. Можно разделить данные на последовательности и убедиться, что тестовый набор содержит последовательности, следующие за теми, которые находятся в обучающем наборе. Это гарантирует, что наша модель научится предсказывать будущие взаимодействия на основе прошлых.\n",
        "\n",
        "Разделение на уровне пользователя: Учитывая низкое среднее количество покупок на пользователя, традиционное случайное разделение может не сработать хорошо, так как это может привести к разреженным обучающим данным для некоторых пользователей. Вместо этого можно рассмотреть разделение данных на уровне пользователя. Например, можно случайным образом выбрать часть пользователей для обучения и оставить остальных для тестирования. Это гарантирует, что наша модель увидит достаточное количество взаимодействий от каждого пользователя во время обучения.\n",
        "\n",
        "Валидационный набор: Помимо разделения на обучающий и тестовый наборы, также стоит включить валидационный набор для настройки гиперпараметров и выбора модели. Учитывая возможное ограничение данных, отдельный валидационный набор поможет оценить производительность модели и ее обобщающую способность перед окончательным выбором модели.\n",
        "\n",
        "Cross Validation: В зависимости от размера нашего набора данных и изменчивости поведения пользователей, можно также использовать техники перекрестной проверки (например, кросс-валидацию). Это поможет обеспечить устойчивость производительности модели на различных подмножествах данных.\n",
        "\n",
        "\n",
        "\n",
        "\n"
      ],
      "metadata": {
        "id": "LgnLEiEbQxwL"
      }
    },
    {
      "cell_type": "markdown",
      "source": [
        "# Sources:"
      ],
      "metadata": {
        "id": "uVkbLdhTcrit"
      }
    },
    {
      "cell_type": "markdown",
      "source": [
        "- https://wiki.epfl.ch/edicpublic/documents/Candidacy%20exam/Evaluation.pdf\n",
        "- https://www.kaggle.com/code/julian3833/h-m-implicit-als-model-0-014\n",
        "- https://ods.ai/tracks/mts-recsys-df2020/blocks/cf056af1-ee00-4ed7-b8c9-988ee3ca8253\n",
        "- https://en.wikipedia.org/wiki/Matrix_completion#Alternating_least_squares_minimization\n",
        "- https://towardsdatascience.com/evaluation-metrics-for-recommendation-systems-an-overview-71290690ecba\n",
        "- https://arxiv.org/pdf/2007.13237.pdf\n",
        "- https://medium.com/the-owl/evaluating-recommender-systems-749570354976"
      ],
      "metadata": {
        "id": "pP_nnzZdcubM"
      }
    },
    {
      "cell_type": "code",
      "source": [],
      "metadata": {
        "id": "KY0NG4Obcuzj"
      },
      "execution_count": null,
      "outputs": []
    }
  ],
  "metadata": {
    "colab": {
      "provenance": [],
      "gpuType": "T4"
    },
    "kernelspec": {
      "display_name": "Python 3",
      "name": "python3"
    },
    "language_info": {
      "name": "python"
    },
    "accelerator": "GPU"
  },
  "nbformat": 4,
  "nbformat_minor": 0
}